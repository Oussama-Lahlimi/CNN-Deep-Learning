{
 "cells": [
  {
   "cell_type": "code",
   "execution_count": 10,
   "id": "6a1cb6c3",
   "metadata": {},
   "outputs": [],
   "source": [
    "#Importation des packages \n",
    "import tensorflow as tf\n",
    "import matplotlib.pyplot as plt \n",
    "import numpy as np \n",
    "#Cette data base contient \"Cifar10\"des \n",
    "#ensembles des images differents des objets 32*32 \n",
    "from tensorflow.keras.datasets import cifar10 \n",
    "from tensorflow.keras.models import Sequential \n",
    "from tensorflow.keras.layers import Dense, Activation, Flatten\n",
    "from tensorflow.keras.layers import Conv2D, MaxPooling2D\n",
    "from tensorflow.keras.preprocessing.image import ImageDataGenerator"
   ]
  },
  {
   "cell_type": "code",
   "execution_count": 11,
   "id": "2eab457e",
   "metadata": {},
   "outputs": [
    {
     "name": "stdout",
     "output_type": "stream",
     "text": [
      "Downloading data from https://www.cs.toronto.edu/~kriz/cifar-10-python.tar.gz\n",
      "170500096/170498071 [==============================] - 97s 1us/step\n",
      "170508288/170498071 [==============================] - 97s 1us/step\n"
     ]
    }
   ],
   "source": [
    "# le modele sequentielle !!!!!\n",
    "# le chrgement de la base de données \n",
    "(X_train,y_train),(X_test,y_test)= cifar10.load_data()"
   ]
  },
  {
   "cell_type": "code",
   "execution_count": null,
   "id": "9546638a",
   "metadata": {},
   "outputs": [],
   "source": [
    "X_train[3] "
   ]
  },
  {
   "cell_type": "code",
   "execution_count": 14,
   "id": "d28018c7",
   "metadata": {},
   "outputs": [
    {
     "data": {
      "text/plain": [
       "<matplotlib.image.AxesImage at 0x28bc76cc370>"
      ]
     },
     "execution_count": 14,
     "metadata": {},
     "output_type": "execute_result"
    },
    {
     "data": {
      "image/png": "[encoded data removed]",
      "text/plain": [
       "<Figure size 640x480 with 1 Axes>"
      ]
     },
     "metadata": {},
     "output_type": "display_data"
    }
   ],
   "source": [
    "plt.imshow(X_train[9])"
   ]
  },
  {
   "cell_type": "code",
   "execution_count": 15,
   "id": "f2b24274",
   "metadata": {},
   "outputs": [],
   "source": [
    "#il faut de normaliser les images \n",
    "X_train= X_train/255.0\n",
    "X_test= X_test/255.0\n",
    "#par ce que 255 est la plus grande valer qui se trouve \n",
    "#dasn les images "
   ]
  },
  {
   "cell_type": "code",
   "execution_count": 16,
   "id": "a80ea09e",
   "metadata": {},
   "outputs": [
    {
     "data": {
      "text/plain": [
       "array([[[0.10980392, 0.09803922, 0.03921569],\n",
       "        [0.14509804, 0.13333333, 0.0745098 ],\n",
       "        [0.14901961, 0.1372549 , 0.07843137],\n",
       "        ...,\n",
       "        [0.29803922, 0.2627451 , 0.15294118],\n",
       "        [0.31764706, 0.28235294, 0.16862745],\n",
       "        [0.33333333, 0.29803922, 0.18431373]],\n",
       "\n",
       "       [[0.12941176, 0.10980392, 0.05098039],\n",
       "        [0.13333333, 0.11764706, 0.05490196],\n",
       "        [0.1254902 , 0.10588235, 0.04705882],\n",
       "        ...,\n",
       "        [0.37254902, 0.32156863, 0.21568627],\n",
       "        [0.37647059, 0.32156863, 0.21960784],\n",
       "        [0.33333333, 0.28235294, 0.17647059]],\n",
       "\n",
       "       [[0.15294118, 0.1254902 , 0.05882353],\n",
       "        [0.15686275, 0.12941176, 0.06666667],\n",
       "        [0.22352941, 0.19607843, 0.12941176],\n",
       "        ...,\n",
       "        [0.36470588, 0.29803922, 0.20392157],\n",
       "        [0.41960784, 0.34901961, 0.25882353],\n",
       "        [0.37254902, 0.30196078, 0.21176471]],\n",
       "\n",
       "       ...,\n",
       "\n",
       "       [[0.3254902 , 0.28627451, 0.20392157],\n",
       "        [0.34117647, 0.30196078, 0.21960784],\n",
       "        [0.32941176, 0.29019608, 0.20392157],\n",
       "        ...,\n",
       "        [0.38823529, 0.36470588, 0.2745098 ],\n",
       "        [0.35294118, 0.32941176, 0.23921569],\n",
       "        [0.31764706, 0.29411765, 0.20392157]],\n",
       "\n",
       "       [[0.34509804, 0.28235294, 0.2       ],\n",
       "        [0.35294118, 0.29019608, 0.20392157],\n",
       "        [0.36470588, 0.30196078, 0.21960784],\n",
       "        ...,\n",
       "        [0.31372549, 0.29019608, 0.20784314],\n",
       "        [0.29803922, 0.2745098 , 0.19215686],\n",
       "        [0.32156863, 0.29803922, 0.21568627]],\n",
       "\n",
       "       [[0.38039216, 0.30588235, 0.21960784],\n",
       "        [0.36862745, 0.29411765, 0.20784314],\n",
       "        [0.36470588, 0.29411765, 0.20784314],\n",
       "        ...,\n",
       "        [0.21176471, 0.18431373, 0.10980392],\n",
       "        [0.24705882, 0.21960784, 0.14509804],\n",
       "        [0.28235294, 0.25490196, 0.18039216]]])"
      ]
     },
     "execution_count": 16,
     "metadata": {},
     "output_type": "execute_result"
    }
   ],
   "source": [
    "X_train[3]\n",
    "# en remarque que les valeurs sont entre 0 et 1"
   ]
  },
  {
   "cell_type": "code",
   "execution_count": 18,
   "id": "1beb99e5",
   "metadata": {},
   "outputs": [
    {
     "data": {
      "text/plain": [
       "(50000, 32, 32, 3)"
      ]
     },
     "execution_count": 18,
     "metadata": {},
     "output_type": "execute_result"
    }
   ],
   "source": [
    "# en créer le model Sequential \n",
    "model= Sequential()\n",
    "X_train.shape\n",
    "#la taille de l'image \n",
    "#le nb de image ,32*32 , le code rgb est 3"
   ]
  },
  {
   "cell_type": "code",
   "execution_count": 22,
   "id": "2722f628",
   "metadata": {},
   "outputs": [],
   "source": [
    "#En faire le Reseaux de Convolution CNN\n",
    "#le nb de filter , la taille de filter \n",
    "#X_train.shape[1:] pour la taille de photo \n",
    "model.add(Conv2D(256,(3,3),input_shape=X_train.shape[1:]))\n",
    "#ajouter une fonction d'activation pour RCNN\n",
    "model.add(Activation('relu'))\n",
    "model.add(MaxPooling2D(pool_size=(2,2)))"
   ]
  },
  {
   "cell_type": "code",
   "execution_count": null,
   "id": "a8a91740",
   "metadata": {},
   "outputs": [],
   "source": [
    "#Ajouter une autre couches de convolution \n",
    "model.add(Conv2D(256,(3,3),input_shape=X_train.shape[1:]))\n",
    "model.add(Activation('relu'))\n",
    "model.add(MaxPooling2D(pool_size=(2,2)))"
   ]
  },
  {
   "cell_type": "code",
   "execution_count": 23,
   "id": "87479d29",
   "metadata": {},
   "outputs": [],
   "source": [
    "model.add(Flatten())"
   ]
  },
  {
   "cell_type": "code",
   "execution_count": 25,
   "id": "731d85bb",
   "metadata": {},
   "outputs": [],
   "source": [
    "# le complétement connecter\n",
    "#on creer une couche dense de taille 64\n",
    "model.add(Dense(64))\n",
    "#la couche cacheé --- sortie \n",
    "#le nobre de type de sortie 10 types il faur de comprendre Db\n",
    "model.add(Dense(10))\n",
    "#la fonction d'activation \n",
    "#sont des probabilite entre 0-1 danc sigmoid \n",
    "model.add(Activation('sigmoid'))\n",
    "model.compile(loss='sparse_categorical_crossentropy',optimizer=\"Adam\",metrics=['sparse_categorical_accuracy'])"
   ]
  },
  {
   "cell_type": "code",
   "execution_count": 27,
   "id": "1aaad7f7",
   "metadata": {},
   "outputs": [
    {
     "name": "stdout",
     "output_type": "stream",
     "text": [
      "Model: \"sequential_1\"\n",
      "_________________________________________________________________\n",
      "Layer (type)                 Output Shape              Param #   \n",
      "=================================================================\n",
      "conv2d (Conv2D)              (None, 30, 30, 256)       7168      \n",
      "_________________________________________________________________\n",
      "activation (Activation)      (None, 30, 30, 256)       0         \n",
      "_________________________________________________________________\n",
      "conv2d_1 (Conv2D)            (None, 28, 28, 256)       590080    \n",
      "_________________________________________________________________\n",
      "activation_1 (Activation)    (None, 28, 28, 256)       0         \n",
      "_________________________________________________________________\n",
      "max_pooling2d (MaxPooling2D) (None, 14, 14, 256)       0         \n",
      "_________________________________________________________________\n",
      "flatten (Flatten)            (None, 50176)             0         \n",
      "_________________________________________________________________\n",
      "dense (Dense)                (None, 64)                3211328   \n",
      "_________________________________________________________________\n",
      "dense_1 (Dense)              (None, 10)                650       \n",
      "_________________________________________________________________\n",
      "dense_2 (Dense)              (None, 64)                704       \n",
      "_________________________________________________________________\n",
      "dense_3 (Dense)              (None, 10)                650       \n",
      "_________________________________________________________________\n",
      "activation_2 (Activation)    (None, 10)                0         \n",
      "=================================================================\n",
      "Total params: 3,810,580\n",
      "Trainable params: 3,810,580\n",
      "Non-trainable params: 0\n",
      "_________________________________________________________________\n"
     ]
    }
   ],
   "source": [
    "model.summary()"
   ]
  },
  {
   "cell_type": "code",
   "execution_count": null,
   "id": "cf3ed0f3",
   "metadata": {},
   "outputs": [],
   "source": [
    "#entrainer le model \n",
    "# si la taille de base de données est grande on utiliser le batch \n",
    "model.fit(X_train,y_train,batch_size=32,epochs=10)\n",
    "#la pression est augment et la perte est diminue "
   ]
  },
  {
   "cell_type": "code",
   "execution_count": null,
   "id": "a00cccb3",
   "metadata": {},
   "outputs": [],
   "source": [
    "test_loss,test_accuracy=model.evaluate(X_test,y_test)"
   ]
  },
  {
   "cell_type": "code",
   "execution_count": null,
   "id": "7035e298",
   "metadata": {},
   "outputs": [],
   "source": []
  }
 ],
 "metadata": {
  "kernelspec": {
   "display_name": "Python 3 (ipykernel)",
   "language": "python",
   "name": "python3"
  },
  "language_info": {
   "codemirror_mode": {
    "name": "ipython",
    "version": 3
   },
   "file_extension": ".py",
   "mimetype": "text/x-python",
   "name": "python",
   "nbconvert_exporter": "python",
   "pygments_lexer": "ipython3",
   "version": "3.9.16"
  }
 },
 "nbformat": 4,
 "nbformat_minor": 5
}
